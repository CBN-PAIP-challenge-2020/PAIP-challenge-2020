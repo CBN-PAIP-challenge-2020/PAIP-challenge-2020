{
 "cells": [
  {
   "cell_type": "code",
   "execution_count": 1,
   "metadata": {
    "ExecuteTime": {
     "end_time": "2020-05-28T02:00:39.276138Z",
     "start_time": "2020-05-28T02:00:38.672205Z"
    }
   },
   "outputs": [],
   "source": [
    "import numpy as np\n",
    "import pandas as pd\n",
    "import os, glob, re\n",
    "import matplotlib.pyplot as plt\n",
    "import imageio\n",
    "import scipy.ndimage.morphology as scipy_morph\n",
    "import skimage.morphology as skimg_morph\n",
    "\n",
    "np.random.seed(42)"
   ]
  },
  {
   "cell_type": "code",
   "execution_count": 2,
   "metadata": {
    "ExecuteTime": {
     "end_time": "2020-05-28T02:00:39.292025Z",
     "start_time": "2020-05-28T02:00:39.278264Z"
    }
   },
   "outputs": [],
   "source": [
    "tissue_load_dir = './Training Data/Y_tissue/' # .h5\n",
    "xml2binary_load_dir = './Training Data/Y_xml2binary/' # .npy\n",
    "\n",
    "tissue_fns = sorted(glob.glob(tissue_load_dir + '*.h5') + glob.glob(tissue_load_dir + '*.H5'))\n",
    "xml2binary_fns = sorted(glob.glob(xml2binary_load_dir + '*.npy') + glob.glob(tissue_load_dir + '*.NPY'))"
   ]
  },
  {
   "cell_type": "code",
   "execution_count": 3,
   "metadata": {
    "ExecuteTime": {
     "end_time": "2020-05-28T02:00:39.300176Z",
     "start_time": "2020-05-28T02:00:39.293595Z"
    }
   },
   "outputs": [],
   "source": [
    "Y_save_dir = './Training Data/Y_l2/'\n",
    "os.makedirs(Y_save_dir, exist_ok=True)\n",
    "\n",
    "PID_save_dir = './Training Data/PID/'\n",
    "os.makedirs(PID_save_dir, exist_ok=True)\n",
    "\n",
    "PID_fig_save_dir = './Training Data/PID_fig/'\n",
    "os.makedirs(PID_fig_save_dir, exist_ok=True)"
   ]
  },
  {
   "cell_type": "code",
   "execution_count": 5,
   "metadata": {
    "ExecuteTime": {
     "end_time": "2020-05-28T02:03:11.772013Z",
     "start_time": "2020-05-28T02:01:07.496069Z"
    }
   },
   "outputs": [],
   "source": [
    "for i, (tissue_fn, xml2binary_fn) in enumerate(zip(tissue_fns, xml2binary_fns)):\n",
    "    df = pd.read_hdf(tissue_fn, key='/levle 2')\n",
    "    tissue = df.values > 0\n",
    "    xml2binary = np.load(xml2binary_fn)\n",
    "    assert tissue.shape == xml2binary.shape\n",
    "    tumor = tissue * xml2binary\n",
    "    np.save(Y_save_dir + 'tumor_mask_' + str(i+1) + '.npy', tumor)\n",
    "    \n",
    "    # remove blobs\n",
    "    tumor = skimg_morph.remove_small_objects(tumor, min_size=256*256, connectivity=1, in_place=False)\n",
    "    tissue = skimg_morph.remove_small_objects(tissue, min_size=256*256, connectivity=1, in_place=False)\n",
    "    \n",
    "    # exclude marginal pixels\n",
    "    pad_mask = np.ones((tissue.shape[0]-20, tissue.shape[1]-20), dtype=np.uint8)\n",
    "    pad_mask = np.pad(pad_mask, ((10,10),(10,10)), mode='constant')\n",
    "    tumor = tumor * pad_mask > 0\n",
    "    tissue = tissue * pad_mask > 0\n",
    "    \n",
    "    # get border between the tumor and the non-tumor tissue\n",
    "    ntt = tissue * np.invert(tumor)\n",
    "    dil = scipy_morph.binary_dilation(tumor)\n",
    "    tumor_edge = dil * np.invert(tumor)\n",
    "    border = tumor_edge * ntt\n",
    "    \n",
    "    # sample indices\n",
    "    class_list = [tumor, ntt, border]\n",
    "    result = []\n",
    "    for c in class_list:\n",
    "        c_ids = np.argwhere(c)\n",
    "        loc = np.random.choice(len(c_ids), 500, replace=False)\n",
    "        c_sample_ids = c_ids[loc]\n",
    "        result.append(c_sample_ids)\n",
    "        \n",
    "    # save sampled indices (of level 0)\n",
    "    result_npy = np.concatenate(result)\n",
    "    pd.DataFrame(result_npy * 16).to_csv(PID_save_dir + 'PID_' + str(i+1) + '.csv')\n",
    "        \n",
    "    # save plotted imgs of sampled indices\n",
    "    plt.figure()\n",
    "    x, y = result[0].T\n",
    "    plt.axis([0,tissue.shape[1],tissue.shape[0],0])\n",
    "    plt.scatter(y, x, c='r')\n",
    "    x, y = result[1].T\n",
    "    plt.scatter(y, x, c='g')\n",
    "    x, y = result[2].T\n",
    "    plt.scatter(y, x, c='b')\n",
    "    plt.savefig(PID_fig_save_dir + 'PID_fig_' + str(i+1) + '.png')\n",
    "    plt.close()"
   ]
  },
  {
   "cell_type": "code",
   "execution_count": 6,
   "metadata": {
    "ExecuteTime": {
     "end_time": "2020-05-28T02:03:34.740042Z",
     "start_time": "2020-05-28T02:03:33.264693Z"
    }
   },
   "outputs": [
    {
     "data": {
      "text/plain": [
       "<matplotlib.image.AxesImage at 0x7fe62a09f438>"
      ]
     },
     "execution_count": 6,
     "metadata": {},
     "output_type": "execute_result"
    },
    {
     "data": {
      "image/png": "[encoded data removed]",
      "text/plain": [
       "<Figure size 432x288 with 1 Axes>"
      ]
     },
     "metadata": {
      "needs_background": "light"
     },
     "output_type": "display_data"
    }
   ],
   "source": [
    "plt.imshow(ntt, cmap='gray')\n",
    "plt.imshow(tumor, cmap='jet', alpha=0.5)"
   ]
  },
  {
   "cell_type": "code",
   "execution_count": null,
   "metadata": {},
   "outputs": [],
   "source": []
  }
 ],
 "metadata": {
  "kernelspec": {
   "display_name": "Python 3",
   "language": "python",
   "name": "python3"
  },
  "language_info": {
   "codemirror_mode": {
    "name": "ipython",
    "version": 3
   },
   "file_extension": ".py",
   "mimetype": "text/x-python",
   "name": "python",
   "nbconvert_exporter": "python",
   "pygments_lexer": "ipython3",
   "version": "3.5.2"
  },
  "toc": {
   "base_numbering": 1,
   "nav_menu": {},
   "number_sections": true,
   "sideBar": true,
   "skip_h1_title": false,
   "title_cell": "Table of Contents",
   "title_sidebar": "Contents",
   "toc_cell": false,
   "toc_position": {},
   "toc_section_display": true,
   "toc_window_display": false
  },
  "varInspector": {
   "cols": {
    "lenName": 16,
    "lenType": 16,
    "lenVar": 40
   },
   "kernels_config": {
    "python": {
     "delete_cmd_postfix": "",
     "delete_cmd_prefix": "del ",
     "library": "var_list.py",
     "varRefreshCmd": "print(var_dic_list())"
    },
    "r": {
     "delete_cmd_postfix": ") ",
     "delete_cmd_prefix": "rm(",
     "library": "var_list.r",
     "varRefreshCmd": "cat(var_dic_list()) "
    }
   },
   "types_to_exclude": [
    "module",
    "function",
    "builtin_function_or_method",
    "instance",
    "_Feature"
   ],
   "window_display": false
  }
 },
 "nbformat": 4,
 "nbformat_minor": 2
}
