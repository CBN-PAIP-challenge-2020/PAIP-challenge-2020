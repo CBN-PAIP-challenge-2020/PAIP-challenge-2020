{
 "cells": [
  {
   "cell_type": "code",
   "execution_count": 1,
   "metadata": {
    "ExecuteTime": {
     "end_time": "2020-05-20T05:32:37.594869Z",
     "start_time": "2020-05-20T05:32:37.385321Z"
    }
   },
   "outputs": [],
   "source": [
    "import numpy as np\n",
    "import xml.etree.ElementTree as et\n",
    "import os, glob, re\n",
    "import tifffile, cv2\n",
    "import openslide\n",
    "import matplotlib.pyplot as plt"
   ]
  },
  {
   "cell_type": "code",
   "execution_count": 2,
   "metadata": {
    "ExecuteTime": {
     "end_time": "2020-05-20T05:32:37.610524Z",
     "start_time": "2020-05-20T05:32:37.599516Z"
    }
   },
   "outputs": [],
   "source": [
    "wsi_load_dir = './Training Data/X/'\n",
    "xml_load_dir = './Training Data/Y_xml/'\n",
    "\n",
    "wsi_fns = sorted(glob.glob(wsi_load_dir + '*.svs') + glob.glob(wsi_load_dir + '*.SVS'))\n",
    "xml_fns = sorted(glob.glob(xml_load_dir + '*.xml') + glob.glob(xml_load_dir + '*.XML'))\n",
    "\n",
    "save_dir = './Training Data/Y/'\n",
    "os.makedirs(save_dir, exist_ok=True)"
   ]
  },
  {
   "cell_type": "code",
   "execution_count": 3,
   "metadata": {
    "ExecuteTime": {
     "end_time": "2020-05-20T05:32:37.618513Z",
     "start_time": "2020-05-20T05:32:37.613171Z"
    }
   },
   "outputs": [],
   "source": [
    "div = 16\n",
    "\n",
    "assert len(wsi_fns) == len(xml_fns) == 47\n",
    "\n",
    "q = re.compile('training_data_[0-9]{2}')"
   ]
  },
  {
   "cell_type": "code",
   "execution_count": 4,
   "metadata": {
    "ExecuteTime": {
     "end_time": "2020-05-20T05:32:37.670463Z",
     "start_time": "2020-05-20T05:32:37.623154Z"
    }
   },
   "outputs": [],
   "source": [
    "def xml2mask(xml_fn, shape):\n",
    "  # print('reconstructing sparse xml to contours of div={}..'.format(div))\n",
    "    board_pos = None\n",
    "    board_neg = None\n",
    "  # Annotations >> \n",
    "    e = et.parse(xml_fn).getroot()\n",
    "    e = e.findall('Annotation')\n",
    "    assert(len(e) == 1), len(e)\n",
    "    for ann in e:\n",
    "        board_pos = np.zeros(shape[:2], dtype=np.uint8)\n",
    "        board_neg = np.zeros(shape[:2], dtype=np.uint8)\n",
    "        id_num = int(ann.get('Id'))\n",
    "        assert(id_num == 1)# or id_num == 2)\n",
    "        regions = ann.findall('Regions')\n",
    "        assert(len(regions) == 1)\n",
    "        rs = regions[0].findall('Region')\n",
    "        plistlist = list()\n",
    "        nlistlist = list()\n",
    "        print('rs:', len(rs))\n",
    "        for i, r in enumerate(rs):\n",
    "#             ylist = list()\n",
    "#             xlist = list()\n",
    "            plist, nlist = list(), list()\n",
    "            negative_flag = int(r.get('NegativeROA'))\n",
    "            assert negative_flag == 0 or negative_flag == 1\n",
    "            negative_flag = bool(negative_flag)\n",
    "            vs = r.findall('Vertices')[0]\n",
    "            vs = vs.findall('Vertex')\n",
    "            vs.append(vs[0]) # last dot should be linked to the first dot\n",
    "            for v in vs:\n",
    "                y, x = int(v.get('Y').split('.')[0]), int(v.get('X').split('.')[0])\n",
    "                if div is not None:\n",
    "                    y //= div\n",
    "                    x //= div\n",
    "                if y >= shape[0]:\n",
    "                    y = shape[0]-1\n",
    "                elif y < 0:\n",
    "                    y = 0\n",
    "                if x >= shape[1]:\n",
    "                    x = shape[1]-1\n",
    "                elif x < 0:\n",
    "                    x = 0\n",
    "#                 ylist.append(y)\n",
    "#                 xlist.append(x)\n",
    "                if negative_flag:\n",
    "                    nlist.append((x, y))\n",
    "                else:\n",
    "                    plist.append((x, y))\n",
    "            if plist:\n",
    "                plistlist.append(plist)\n",
    "            else:\n",
    "                nlistlist.append(nlist)\n",
    "        for plist in plistlist:\n",
    "            board_pos = cv2.drawContours(board_pos, [np.array(plist, dtype=np.int32)], -1, [255, 255, 255], -1)\n",
    "        for nlist in nlistlist:\n",
    "            board_neg = cv2.drawContours(board_neg, [np.array(nlist, dtype=np.int32)], -1, [255, 255, 255], -1)\n",
    "    return (board_pos>0) * (board_neg==0)"
   ]
  },
  {
   "cell_type": "code",
   "execution_count": 5,
   "metadata": {
    "ExecuteTime": {
     "end_time": "2020-05-20T05:32:37.678450Z",
     "start_time": "2020-05-20T05:32:37.673072Z"
    }
   },
   "outputs": [],
   "source": [
    "def save_mask(xml_fn, shape):\n",
    "    wsi_id = xml_fn.split('/')[-1][:-4]\n",
    "    save_fn = save_dir + '{}_l2_annotation_tumor.npy'.format(wsi_id)\n",
    "    ret = xml2mask(xml_fn, shape)\n",
    "#     tifffile.imwrite(save_fn, (ret[1]>0).astype(np.uint8), compress=9)\n",
    "    np.save(save_fn, ret)\n",
    "    return ret"
   ]
  },
  {
   "cell_type": "code",
   "execution_count": 6,
   "metadata": {
    "ExecuteTime": {
     "end_time": "2020-05-20T05:32:37.686444Z",
     "start_time": "2020-05-20T05:32:37.679630Z"
    }
   },
   "outputs": [],
   "source": [
    "def load_svs_shape(fn, level=2):\n",
    "    imgh = openslide.OpenSlide(fn)\n",
    "    return [imgh.level_dimensions[level][1], imgh.level_dimensions[level][0]]"
   ]
  },
  {
   "cell_type": "code",
   "execution_count": 7,
   "metadata": {
    "ExecuteTime": {
     "end_time": "2020-05-20T05:32:40.682500Z",
     "start_time": "2020-05-20T05:32:37.687926Z"
    },
    "scrolled": true
   },
   "outputs": [
    {
     "name": "stdout",
     "output_type": "stream",
     "text": [
      "1 / 47 : training_data_01\n",
      "rs: 3\n",
      "2 / 47 : training_data_02\n",
      "rs: 3\n",
      "3 / 47 : training_data_03\n",
      "rs: 1\n",
      "4 / 47 : training_data_04\n",
      "rs: 4\n",
      "5 / 47 : training_data_05\n",
      "rs: 1\n",
      "6 / 47 : training_data_06\n",
      "rs: 1\n",
      "7 / 47 : training_data_07\n",
      "rs: 1\n",
      "8 / 47 : training_data_08\n",
      "rs: 1\n",
      "9 / 47 : training_data_09\n",
      "rs: 4\n",
      "10 / 47 : training_data_10\n",
      "rs: 1\n",
      "11 / 47 : training_data_11\n",
      "rs: 1\n",
      "12 / 47 : training_data_12\n",
      "rs: 1\n",
      "13 / 47 : training_data_13\n",
      "rs: 4\n",
      "14 / 47 : training_data_14\n",
      "rs: 7\n",
      "15 / 47 : training_data_15\n",
      "rs: 2\n",
      "16 / 47 : training_data_16\n",
      "rs: 2\n",
      "17 / 47 : training_data_17\n",
      "rs: 2\n",
      "18 / 47 : training_data_18\n",
      "rs: 1\n",
      "19 / 47 : training_data_19\n",
      "rs: 2\n",
      "20 / 47 : training_data_20\n",
      "rs: 5\n",
      "21 / 47 : training_data_21\n",
      "rs: 1\n",
      "22 / 47 : training_data_22\n",
      "rs: 4\n",
      "23 / 47 : training_data_23\n",
      "rs: 1\n",
      "24 / 47 : training_data_24\n",
      "rs: 1\n",
      "25 / 47 : training_data_25\n",
      "rs: 2\n",
      "26 / 47 : training_data_26\n",
      "rs: 4\n",
      "27 / 47 : training_data_27\n",
      "rs: 1\n",
      "28 / 47 : training_data_28\n",
      "rs: 1\n",
      "29 / 47 : training_data_29\n",
      "rs: 1\n",
      "30 / 47 : training_data_30\n",
      "rs: 1\n",
      "31 / 47 : training_data_31\n",
      "rs: 2\n",
      "32 / 47 : training_data_32\n",
      "rs: 2\n",
      "33 / 47 : training_data_33\n",
      "rs: 6\n",
      "34 / 47 : training_data_34\n",
      "rs: 6\n",
      "35 / 47 : training_data_35\n",
      "rs: 4\n",
      "36 / 47 : training_data_36\n",
      "rs: 2\n",
      "37 / 47 : training_data_37\n",
      "rs: 1\n",
      "38 / 47 : training_data_38\n",
      "rs: 3\n",
      "39 / 47 : training_data_39\n",
      "rs: 1\n",
      "40 / 47 : training_data_40\n",
      "rs: 1\n",
      "41 / 47 : training_data_41\n",
      "rs: 4\n",
      "42 / 47 : training_data_42\n",
      "rs: 1\n",
      "43 / 47 : training_data_43\n",
      "rs: 1\n",
      "44 / 47 : training_data_44\n",
      "rs: 1\n",
      "45 / 47 : training_data_45\n",
      "rs: 1\n",
      "46 / 47 : training_data_46\n",
      "rs: 3\n",
      "47 / 47 : training_data_47\n",
      "rs: 1\n"
     ]
    }
   ],
   "source": [
    "for i, (wsi_fn, xml_fn) in enumerate(zip(wsi_fns, xml_fns)):\n",
    "    wsi_id = q.findall(wsi_fn)[0]\n",
    "    xml_id = q.findall(xml_fn)[0]\n",
    "    assert wsi_id == xml_id\n",
    "    assert os.path.isfile(wsi_fn) and os.path.isfile(xml_fn)\n",
    "    print(i+1, '/', len(wsi_fns), ':', wsi_id)\n",
    "    shape = load_svs_shape(wsi_fn, level=2)\n",
    "    ret = save_mask(xml_fn, shape)"
   ]
  },
  {
   "cell_type": "code",
   "execution_count": 8,
   "metadata": {
    "ExecuteTime": {
     "end_time": "2020-05-20T05:32:41.738563Z",
     "start_time": "2020-05-20T05:32:40.684193Z"
    }
   },
   "outputs": [
    {
     "name": "stdout",
     "output_type": "stream",
     "text": [
      "(5817, 7719)\n"
     ]
    },
    {
     "data": {
      "text/plain": [
       "<matplotlib.image.AxesImage at 0x7f1ea5bf3588>"
      ]
     },
     "execution_count": 8,
     "metadata": {},
     "output_type": "execute_result"
    },
    {
     "data": {
      "image/png": "[encoded data removed]",
      "text/plain": [
       "<Figure size 432x288 with 1 Axes>"
      ]
     },
     "metadata": {
      "needs_background": "light"
     },
     "output_type": "display_data"
    }
   ],
   "source": [
    "lst = ret[:,:]\n",
    "print(lst.shape)\n",
    "plt.imshow(lst*255, cmap='gray')"
   ]
  }
 ],
 "metadata": {
  "kernelspec": {
   "display_name": "Python 3",
   "language": "python",
   "name": "python3"
  },
  "language_info": {
   "codemirror_mode": {
    "name": "ipython",
    "version": 3
   },
   "file_extension": ".py",
   "mimetype": "text/x-python",
   "name": "python",
   "nbconvert_exporter": "python",
   "pygments_lexer": "ipython3",
   "version": "3.5.2"
  },
  "toc": {
   "base_numbering": 1,
   "nav_menu": {},
   "number_sections": true,
   "sideBar": true,
   "skip_h1_title": false,
   "title_cell": "Table of Contents",
   "title_sidebar": "Contents",
   "toc_cell": false,
   "toc_position": {},
   "toc_section_display": true,
   "toc_window_display": false
  },
  "varInspector": {
   "cols": {
    "lenName": 16,
    "lenType": 16,
    "lenVar": 40
   },
   "kernels_config": {
    "python": {
     "delete_cmd_postfix": "",
     "delete_cmd_prefix": "del ",
     "library": "var_list.py",
     "varRefreshCmd": "print(var_dic_list())"
    },
    "r": {
     "delete_cmd_postfix": ") ",
     "delete_cmd_prefix": "rm(",
     "library": "var_list.r",
     "varRefreshCmd": "cat(var_dic_list()) "
    }
   },
   "position": {
    "height": "144px",
    "left": "728.143px",
    "right": "20px",
    "top": "121px",
    "width": "350px"
   },
   "types_to_exclude": [
    "module",
    "function",
    "builtin_function_or_method",
    "instance",
    "_Feature"
   ],
   "window_display": false
  }
 },
 "nbformat": 4,
 "nbformat_minor": 2
}
